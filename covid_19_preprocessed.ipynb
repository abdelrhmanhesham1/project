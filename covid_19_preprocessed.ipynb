{
  "nbformat": 4,
  "nbformat_minor": 0,
  "metadata": {
    "colab": {
      "provenance": [],
      "authorship_tag": "ABX9TyNKq/oe3p7BCGVVW2gf6rf/"
    },
    "kernelspec": {
      "name": "python3",
      "display_name": "Python 3"
    },
    "language_info": {
      "name": "python"
    }
  },
  "cells": [
    {
      "cell_type": "code",
      "source": [
        "import pandas as pd\n",
        "import matplotlib.pyplot as plt\n",
        "import seaborn as sns\n",
        "\n",
        "# Load all datasets\n",
        "df_clean = pd.read_csv(\"/content/covid_19_clean_complete.csv\")\n",
        "df_country = pd.read_csv(\"/content/country_wise_latest.csv\")\n",
        "df_daywise = pd.read_csv(\"/content/day_wise.csv\")\n",
        "df_grouped = pd.read_csv(\"/content/full_grouped.csv\")\n",
        "df_usa = pd.read_csv(\"/content/usa_county_wise.csv\")\n",
        "df_worldometer = pd.read_csv(\"/content/worldometer_data.csv\")\n",
        "\n",
        "# Convert 'Date' to datetime\n",
        "df_clean['Date'] = pd.to_datetime(df_clean['Date'])\n",
        "\n",
        "\n",
        "# Viewing and Inspecting Data\n",
        "print(\"Dataset Info:\")\n",
        "print(df_clean.info())\n",
        "print(\"\\nBasic Statistics:\")\n",
        "print(df_clean.describe())\n",
        "print(\"\\nFirst Few Rows:\")\n",
        "print(df_clean.head())\n",
        "\n"
      ],
      "metadata": {
        "colab": {
          "base_uri": "https://localhost:8080/"
        },
        "id": "Q-7BFaICsEGm",
        "outputId": "2aa3344d-e3f6-4c1b-e82d-1ef54fbe9c4b"
      },
      "execution_count": 62,
      "outputs": [
        {
          "output_type": "stream",
          "name": "stdout",
          "text": [
            "Dataset Info:\n",
            "<class 'pandas.core.frame.DataFrame'>\n",
            "RangeIndex: 49068 entries, 0 to 49067\n",
            "Data columns (total 10 columns):\n",
            " #   Column          Non-Null Count  Dtype         \n",
            "---  ------          --------------  -----         \n",
            " 0   Province/State  14664 non-null  object        \n",
            " 1   Country/Region  49068 non-null  object        \n",
            " 2   Lat             49068 non-null  float64       \n",
            " 3   Long            49068 non-null  float64       \n",
            " 4   Date            49068 non-null  datetime64[ns]\n",
            " 5   Confirmed       49068 non-null  int64         \n",
            " 6   Deaths          49068 non-null  int64         \n",
            " 7   Recovered       49068 non-null  int64         \n",
            " 8   Active          49068 non-null  int64         \n",
            " 9   WHO Region      49068 non-null  object        \n",
            "dtypes: datetime64[ns](1), float64(2), int64(4), object(3)\n",
            "memory usage: 3.7+ MB\n",
            "None\n",
            "\n",
            "Basic Statistics:\n",
            "                Lat          Long                 Date     Confirmed  \\\n",
            "count  49068.000000  49068.000000                49068  4.906800e+04   \n",
            "mean      21.433730     23.528236  2020-04-24 12:00:00  1.688490e+04   \n",
            "min      -51.796300   -135.000000  2020-01-22 00:00:00  0.000000e+00   \n",
            "25%        7.873054    -15.310100  2020-03-08 18:00:00  4.000000e+00   \n",
            "50%       23.634500     21.745300  2020-04-24 12:00:00  1.680000e+02   \n",
            "75%       41.204380     80.771797  2020-06-10 06:00:00  1.518250e+03   \n",
            "max       71.706900    178.065000  2020-07-27 00:00:00  4.290259e+06   \n",
            "std       24.950320     70.442740                  NaN  1.273002e+05   \n",
            "\n",
            "              Deaths     Recovered        Active  \n",
            "count   49068.000000  4.906800e+04  4.906800e+04  \n",
            "mean      884.179160  7.915713e+03  8.085012e+03  \n",
            "min         0.000000  0.000000e+00 -1.400000e+01  \n",
            "25%         0.000000  0.000000e+00  0.000000e+00  \n",
            "50%         2.000000  2.900000e+01  2.600000e+01  \n",
            "75%        30.000000  6.660000e+02  6.060000e+02  \n",
            "max    148011.000000  1.846641e+06  2.816444e+06  \n",
            "std      6313.584411  5.480092e+04  7.625890e+04  \n",
            "\n",
            "First Few Rows:\n",
            "  Province/State Country/Region       Lat       Long       Date  Confirmed  \\\n",
            "0            NaN    Afghanistan  33.93911  67.709953 2020-01-22          0   \n",
            "1            NaN        Albania  41.15330  20.168300 2020-01-22          0   \n",
            "2            NaN        Algeria  28.03390   1.659600 2020-01-22          0   \n",
            "3            NaN        Andorra  42.50630   1.521800 2020-01-22          0   \n",
            "4            NaN         Angola -11.20270  17.873900 2020-01-22          0   \n",
            "\n",
            "   Deaths  Recovered  Active             WHO Region  \n",
            "0       0          0       0  Eastern Mediterranean  \n",
            "1       0          0       0                 Europe  \n",
            "2       0          0       0                 Africa  \n",
            "3       0          0       0                 Europe  \n",
            "4       0          0       0                 Africa  \n"
          ]
        }
      ]
    },
    {
      "cell_type": "code",
      "source": [
        "# Check for missing values\n",
        "print(\"\\nMissing Values:\")\n",
        "print(df_clean.isnull().sum() / len(df_clean) * 100)\n",
        "\n",
        "df_clean.fillna({'Province/State': 'Unknown'}, inplace=True)\n",
        "\n",
        "\n",
        "# Fill missing values in numerical columns with 0\n",
        "df_clean.fillna(0, inplace=True)\n",
        "\n",
        "\n",
        "# Fill NaN values with 0 (or use other methods as needed)\n",
        "df_clean.fillna(0, inplace=True)\n",
        "\n",
        "# Selecting and Filtering Data\n",
        "selected_columns = df_clean[['Date', 'Country/Region', 'Confirmed', 'Deaths', 'Recovered']]\n",
        "filtered_data = df_clean[(df_clean['Confirmed'] > 10000) & (df_clean['Deaths'] > 100)]\n"
      ],
      "metadata": {
        "colab": {
          "base_uri": "https://localhost:8080/"
        },
        "id": "KEgJhoFmIk05",
        "outputId": "847b7eea-b438-46b7-dda6-69efcd39715d"
      },
      "execution_count": 63,
      "outputs": [
        {
          "output_type": "stream",
          "name": "stdout",
          "text": [
            "\n",
            "Missing Values:\n",
            "Province/State    70.114943\n",
            "Country/Region     0.000000\n",
            "Lat                0.000000\n",
            "Long               0.000000\n",
            "Date               0.000000\n",
            "Confirmed          0.000000\n",
            "Deaths             0.000000\n",
            "Recovered          0.000000\n",
            "Active             0.000000\n",
            "WHO Region         0.000000\n",
            "dtype: float64\n"
          ]
        }
      ]
    },
    {
      "cell_type": "code",
      "source": [
        "# Modifying Data\n",
        "df_clean.rename(columns={'Country/Region': 'Country'}, inplace=True)  # Rename column\n",
        "df_clean['Active Cases'] = df_clean['Confirmed'] - df_clean['Deaths'] - df_clean['Recovered']  # New column"
      ],
      "metadata": {
        "id": "J83SBGVPMQZW"
      },
      "execution_count": 64,
      "outputs": []
    },
    {
      "cell_type": "code",
      "source": [
        "# Grouping and Aggregation\n",
        "country_summary = df_clean.groupby('Country')[['Confirmed', 'Deaths', 'Recovered']].sum()\n",
        "country_summary['Death Rate'] = country_summary['Deaths'] / country_summary['Confirmed']\n",
        "country_summary['Recovery Rate'] = country_summary['Recovered'] / country_summary['Confirmed']\n",
        "print(\"\\nCountry Summary:\")\n",
        "print(country_summary.head())"
      ],
      "metadata": {
        "colab": {
          "base_uri": "https://localhost:8080/"
        },
        "id": "packkPebM0ON",
        "outputId": "0ccc2c17-4b0c-4595-cc65-9f4abb350467"
      },
      "execution_count": 65,
      "outputs": [
        {
          "output_type": "stream",
          "name": "stdout",
          "text": [
            "\n",
            "Country Summary:\n",
            "             Confirmed  Deaths  Recovered  Death Rate  Recovery Rate\n",
            "Country                                                             \n",
            "Afghanistan    1936390   49098     798240    0.025355       0.412231\n",
            "Albania         196702    5708     118877    0.029019       0.604351\n",
            "Algeria        1179755   77972     755897    0.066092       0.640724\n",
            "Andorra          94404    5423      69074    0.057445       0.731685\n",
            "Angola           22662    1078       6573    0.047569       0.290045\n"
          ]
        }
      ]
    },
    {
      "cell_type": "code",
      "source": [
        "# Visualization\n",
        "sns.lineplot(x='Date', y='Confirmed', data=df_clean)\n",
        "plt.title('Confirmed Cases Over Time')\n",
        "plt.show()"
      ],
      "metadata": {
        "colab": {
          "base_uri": "https://localhost:8080/",
          "height": 472
        },
        "id": "FM8QW0GSNd0g",
        "outputId": "f8f9de1a-183b-4e8c-da52-b7f43dd9ecbf"
      },
      "execution_count": 66,
      "outputs": [
        {
          "output_type": "display_data",
          "data": {
            "text/plain": [
              "<Figure size 640x480 with 1 Axes>"
            ],
            "image/png": "[encoded data removed]"
          },
          "metadata": {}
        }
      ]
    },
    {
      "cell_type": "code",
      "source": [
        "print(df_clean.head())"
      ],
      "metadata": {
        "colab": {
          "base_uri": "https://localhost:8080/"
        },
        "id": "Eqs8b0sfXFds",
        "outputId": "3bf1310b-a20b-471c-b471-f705cfd2b0b8"
      },
      "execution_count": 67,
      "outputs": [
        {
          "output_type": "stream",
          "name": "stdout",
          "text": [
            "  Province/State      Country       Lat       Long       Date  Confirmed  \\\n",
            "0        Unknown  Afghanistan  33.93911  67.709953 2020-01-22          0   \n",
            "1        Unknown      Albania  41.15330  20.168300 2020-01-22          0   \n",
            "2        Unknown      Algeria  28.03390   1.659600 2020-01-22          0   \n",
            "3        Unknown      Andorra  42.50630   1.521800 2020-01-22          0   \n",
            "4        Unknown       Angola -11.20270  17.873900 2020-01-22          0   \n",
            "\n",
            "   Deaths  Recovered  Active             WHO Region  Active Cases  \n",
            "0       0          0       0  Eastern Mediterranean             0  \n",
            "1       0          0       0                 Europe             0  \n",
            "2       0          0       0                 Africa             0  \n",
            "3       0          0       0                 Europe             0  \n",
            "4       0          0       0                 Africa             0  \n"
          ]
        }
      ]
    },
    {
      "cell_type": "code",
      "source": [
        "# Save the cleaned DataFrame to a new CSV file\n",
        "df_clean_complete.to_csv(\"/content/Covid_19_clean_complete_preprocessed.csv\", index=False)\n",
        "print(\"Preprocessed data saved to Covid_19_clean_complete_preprocessed.csv\")"
      ],
      "metadata": {
        "colab": {
          "base_uri": "https://localhost:8080/"
        },
        "id": "1rQtfUWdNyX7",
        "outputId": "5516a67f-c9d2-455b-c3f5-020c35be3962"
      },
      "execution_count": 68,
      "outputs": [
        {
          "output_type": "stream",
          "name": "stdout",
          "text": [
            "Preprocessed data saved to Covid_19_clean_complete_preprocessed.csv\n"
          ]
        }
      ]
    },
    {
      "cell_type": "code",
      "source": [],
      "metadata": {
        "id": "QVOnS0XQOkLv"
      },
      "execution_count": 58,
      "outputs": []
    }
  ]
}