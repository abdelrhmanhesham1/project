{
  "nbformat": 4,
  "nbformat_minor": 0,
  "metadata": {
    "colab": {
      "provenance": [],
      "collapsed_sections": [
        "JIX9shev5qME",
        "8FdTMZd45kyk",
        "Y1vNwmhg5_L3",
        "WVAot-Vr8F2U"
      ]
    },
    "kernelspec": {
      "name": "python3",
      "display_name": "Python 3"
    },
    "language_info": {
      "name": "python"
    }
  },
  "cells": [
    {
      "cell_type": "markdown",
      "source": [
        "#  For Loops and While Loops"
      ],
      "metadata": {
        "id": "JIX9shev5qME"
      }
    },
    {
      "cell_type": "markdown",
      "source": [
        "## For Loops"
      ],
      "metadata": {
        "id": "8FdTMZd45kyk"
      }
    },
    {
      "cell_type": "markdown",
      "source": [
        "Iterating Over a List"
      ],
      "metadata": {
        "id": "13CPqC065tGh"
      }
    },
    {
      "cell_type": "code",
      "execution_count": 1,
      "metadata": {
        "colab": {
          "base_uri": "https://localhost:8080/"
        },
        "id": "e6-jUdem43oS",
        "outputId": "2ed4e29c-1902-4980-9212-918448bfa37e"
      },
      "outputs": [
        {
          "output_type": "stream",
          "name": "stdout",
          "text": [
            "apple\n",
            "banana\n",
            "cherry\n"
          ]
        }
      ],
      "source": [
        "fruits = [\"apple\", \"banana\", \"cherry\"]\n",
        "for fruit in fruits:\n",
        "    print(fruit)"
      ]
    },
    {
      "cell_type": "markdown",
      "source": [
        "Iterating Over a Range of Numbers"
      ],
      "metadata": {
        "id": "lkGstPMm5v1d"
      }
    },
    {
      "cell_type": "code",
      "source": [
        "for i in range(5):\n",
        "    print(i)"
      ],
      "metadata": {
        "colab": {
          "base_uri": "https://localhost:8080/"
        },
        "id": "Gz2JsSjc5uLV",
        "outputId": "271821c8-0069-4e8a-e8d8-62b3a30c71c5"
      },
      "execution_count": 2,
      "outputs": [
        {
          "output_type": "stream",
          "name": "stdout",
          "text": [
            "0\n",
            "1\n",
            "2\n",
            "3\n",
            "4\n"
          ]
        }
      ]
    },
    {
      "cell_type": "markdown",
      "source": [
        "Iterating Over a String"
      ],
      "metadata": {
        "id": "JMFl7nH751G4"
      }
    },
    {
      "cell_type": "code",
      "source": [
        "word = \"Python\"\n",
        "for letter in word:\n",
        "    print(letter)"
      ],
      "metadata": {
        "colab": {
          "base_uri": "https://localhost:8080/"
        },
        "id": "1KMXH24w51CY",
        "outputId": "00cf7cac-6b85-4e1b-e1df-d3934571bd05"
      },
      "execution_count": 3,
      "outputs": [
        {
          "output_type": "stream",
          "name": "stdout",
          "text": [
            "P\n",
            "y\n",
            "t\n",
            "h\n",
            "o\n",
            "n\n"
          ]
        }
      ]
    },
    {
      "cell_type": "markdown",
      "source": [
        "Using a For Loop with an Else Clause"
      ],
      "metadata": {
        "id": "0modhrSt53-P"
      }
    },
    {
      "cell_type": "code",
      "source": [
        "for i in range(3):\n",
        "    print(i)\n",
        "else:\n",
        "    print(\"Loop finished successfully.\")"
      ],
      "metadata": {
        "colab": {
          "base_uri": "https://localhost:8080/"
        },
        "id": "_1P_Eqkb52QM",
        "outputId": "ce1b6520-ee31-47b6-e090-b7cda672dbfe"
      },
      "execution_count": 4,
      "outputs": [
        {
          "output_type": "stream",
          "name": "stdout",
          "text": [
            "0\n",
            "1\n",
            "2\n",
            "Loop finished successfully.\n"
          ]
        }
      ]
    },
    {
      "cell_type": "markdown",
      "source": [
        "Nested For Loop (Multiplication Table)"
      ],
      "metadata": {
        "id": "iivux_w-568J"
      }
    },
    {
      "cell_type": "code",
      "source": [
        "for i in range(1, 4):\n",
        "    for j in range(1, 4):\n",
        "        print(f\"{i} * {j} = {i * j}\")"
      ],
      "metadata": {
        "colab": {
          "base_uri": "https://localhost:8080/"
        },
        "id": "LqWMyxvh55Gs",
        "outputId": "58ab6c85-71a7-483a-ea67-9e718a15fd00"
      },
      "execution_count": 5,
      "outputs": [
        {
          "output_type": "stream",
          "name": "stdout",
          "text": [
            "1 * 1 = 1\n",
            "1 * 2 = 2\n",
            "1 * 3 = 3\n",
            "2 * 1 = 2\n",
            "2 * 2 = 4\n",
            "2 * 3 = 6\n",
            "3 * 1 = 3\n",
            "3 * 2 = 6\n",
            "3 * 3 = 9\n"
          ]
        }
      ]
    },
    {
      "cell_type": "markdown",
      "source": [
        "## While Loops"
      ],
      "metadata": {
        "id": "Y1vNwmhg5_L3"
      }
    },
    {
      "cell_type": "markdown",
      "source": [
        "Basic While Loop"
      ],
      "metadata": {
        "id": "XHTH8-Hr6A3o"
      }
    },
    {
      "cell_type": "code",
      "source": [
        "count = 0\n",
        "while count < 5:\n",
        "    print(count)\n",
        "    count += 1"
      ],
      "metadata": {
        "colab": {
          "base_uri": "https://localhost:8080/"
        },
        "id": "7C6yPtuN58ur",
        "outputId": "f3a49ca7-5ade-4b94-9d5e-8da15f4ecd89"
      },
      "execution_count": 6,
      "outputs": [
        {
          "output_type": "stream",
          "name": "stdout",
          "text": [
            "0\n",
            "1\n",
            "2\n",
            "3\n",
            "4\n"
          ]
        }
      ]
    },
    {
      "cell_type": "markdown",
      "source": [
        "While Loop with Break Statement"
      ],
      "metadata": {
        "id": "UJinjIfh6DuH"
      }
    },
    {
      "cell_type": "code",
      "source": [
        "count = 0\n",
        "while count < 10:\n",
        "    print(count)\n",
        "    if count == 5:\n",
        "        break\n",
        "    count += 1\n"
      ],
      "metadata": {
        "colab": {
          "base_uri": "https://localhost:8080/"
        },
        "id": "w9lgpu9v6CSL",
        "outputId": "3e372e7b-dfca-4e9e-f35e-2105ec17d6e4"
      },
      "execution_count": 7,
      "outputs": [
        {
          "output_type": "stream",
          "name": "stdout",
          "text": [
            "0\n",
            "1\n",
            "2\n",
            "3\n",
            "4\n",
            "5\n"
          ]
        }
      ]
    },
    {
      "cell_type": "markdown",
      "source": [
        "While Loop with Continue Statement"
      ],
      "metadata": {
        "id": "1pS_wP-E6GK_"
      }
    },
    {
      "cell_type": "code",
      "source": [
        "count = 0\n",
        "while count < 5:\n",
        "    count += 1\n",
        "    if count == 3:\n",
        "        continue\n",
        "    print(count)\n"
      ],
      "metadata": {
        "colab": {
          "base_uri": "https://localhost:8080/"
        },
        "id": "SPWNmt8U6E4E",
        "outputId": "27de3978-613c-4138-ee7e-ea5ed3b23d3b"
      },
      "execution_count": 8,
      "outputs": [
        {
          "output_type": "stream",
          "name": "stdout",
          "text": [
            "1\n",
            "2\n",
            "4\n",
            "5\n"
          ]
        }
      ]
    },
    {
      "cell_type": "markdown",
      "source": [
        "Infinite While Loop with a Break"
      ],
      "metadata": {
        "id": "X_sR1ejU6Ikb"
      }
    },
    {
      "cell_type": "code",
      "source": [
        "while True:\n",
        "    response = input(\"Type 'exit' to quit: \")\n",
        "    if response == 'exit':\n",
        "        break\n"
      ],
      "metadata": {
        "colab": {
          "base_uri": "https://localhost:8080/"
        },
        "id": "gKgizRbu6HQZ",
        "outputId": "16a5864a-a7b6-4170-f004-f932dfb04a40"
      },
      "execution_count": 9,
      "outputs": [
        {
          "name": "stdout",
          "output_type": "stream",
          "text": [
            "Type 'exit' to quit: exit\n"
          ]
        }
      ]
    },
    {
      "cell_type": "markdown",
      "source": [
        "While Loop with an Else Clause"
      ],
      "metadata": {
        "id": "xoaQGBfo6NQ3"
      }
    },
    {
      "cell_type": "code",
      "source": [
        "count = 0\n",
        "while count < 3:\n",
        "    print(count)\n",
        "    count += 1\n",
        "else:\n",
        "    print(\"Loop finished.\")\n"
      ],
      "metadata": {
        "colab": {
          "base_uri": "https://localhost:8080/"
        },
        "id": "SlQGnohG6J6i",
        "outputId": "b345c606-7629-4547-98a2-e2684cb57780"
      },
      "execution_count": 10,
      "outputs": [
        {
          "output_type": "stream",
          "name": "stdout",
          "text": [
            "0\n",
            "1\n",
            "2\n",
            "Loop finished.\n"
          ]
        }
      ]
    },
    {
      "cell_type": "markdown",
      "source": [
        "# Large Practical Applications"
      ],
      "metadata": {
        "id": "WVAot-Vr8F2U"
      }
    },
    {
      "cell_type": "markdown",
      "source": [
        "Finding the Maximum Value in a List"
      ],
      "metadata": {
        "id": "rxzeb7U98U47"
      }
    },
    {
      "cell_type": "code",
      "source": [
        "numbers = [3, 5, 2, 8, 1, 9, 4]\n",
        "max_value = numbers[0]\n",
        "\n",
        "for number in numbers:\n",
        "    if number > max_value:\n",
        "        max_value = number\n",
        "\n",
        "print(\"The maximum value is:\", max_value)"
      ],
      "metadata": {
        "colab": {
          "base_uri": "https://localhost:8080/"
        },
        "id": "S7VYI5YD8FgG",
        "outputId": "f2efb379-3e37-4144-b8f0-7627b29e049c"
      },
      "execution_count": 11,
      "outputs": [
        {
          "output_type": "stream",
          "name": "stdout",
          "text": [
            "The maximum value is: 9\n"
          ]
        }
      ]
    },
    {
      "cell_type": "markdown",
      "source": [
        "Counting Vowels in a String"
      ],
      "metadata": {
        "id": "EQPvgXIX8X87"
      }
    },
    {
      "cell_type": "code",
      "source": [
        "text = \"Hello, how are you?\"\n",
        "vowel_count = 0\n",
        "\n",
        "for char in text:\n",
        "    if char.lower() in 'aeiou':\n",
        "        vowel_count += 1\n",
        "\n",
        "print(\"Number of vowels:\", vowel_count)\n"
      ],
      "metadata": {
        "colab": {
          "base_uri": "https://localhost:8080/"
        },
        "id": "VOcN0zx88X1P",
        "outputId": "ac55e7f5-2d99-4d25-b071-43b6e5e762a7"
      },
      "execution_count": 12,
      "outputs": [
        {
          "output_type": "stream",
          "name": "stdout",
          "text": [
            "Number of vowels: 7\n"
          ]
        }
      ]
    },
    {
      "cell_type": "markdown",
      "source": [
        "Finding Prime Numbers within a Range"
      ],
      "metadata": {
        "id": "W_m3FN138bJP"
      }
    },
    {
      "cell_type": "code",
      "source": [
        "start = 10\n",
        "end = 20\n",
        "\n",
        "for num in range(start, end + 1):\n",
        "    if num > 1:\n",
        "        for i in range(2, num):\n",
        "            if num % i == 0:\n",
        "                break\n",
        "        else:\n",
        "            print(num, \"is a prime number\")\n"
      ],
      "metadata": {
        "colab": {
          "base_uri": "https://localhost:8080/"
        },
        "id": "6vQWGtkr8V20",
        "outputId": "cc732248-0f9f-4791-8dc4-76b340c719bd"
      },
      "execution_count": 13,
      "outputs": [
        {
          "output_type": "stream",
          "name": "stdout",
          "text": [
            "11 is a prime number\n",
            "13 is a prime number\n",
            "17 is a prime number\n",
            "19 is a prime number\n"
          ]
        }
      ]
    },
    {
      "cell_type": "markdown",
      "source": [
        "Generating a Fibonacci Sequence"
      ],
      "metadata": {
        "id": "fRMwGNG_8d-U"
      }
    },
    {
      "cell_type": "code",
      "source": [
        "n = 10\n",
        "a, b = 0, 1\n",
        "fibonacci_sequence = []\n",
        "\n",
        "while len(fibonacci_sequence) < n:\n",
        "    fibonacci_sequence.append(a)\n",
        "    a, b = b, a + b\n",
        "\n",
        "print(\"Fibonacci sequence:\", fibonacci_sequence)\n"
      ],
      "metadata": {
        "colab": {
          "base_uri": "https://localhost:8080/"
        },
        "id": "ojdGxHl18cNk",
        "outputId": "3ac321e7-9a63-4843-8f23-5e739b650f77"
      },
      "execution_count": 14,
      "outputs": [
        {
          "output_type": "stream",
          "name": "stdout",
          "text": [
            "Fibonacci sequence: [0, 1, 1, 2, 3, 5, 8, 13, 21, 34]\n"
          ]
        }
      ]
    },
    {
      "cell_type": "markdown",
      "source": [
        "Simulating a Basic ATM Withdrawal"
      ],
      "metadata": {
        "id": "qq_4UdQX8hku"
      }
    },
    {
      "cell_type": "code",
      "source": [
        "balance = 1000\n",
        "\n",
        "while balance > 0:\n",
        "    withdrawal = int(input(\"Enter amount to withdraw: \"))\n",
        "    if withdrawal <= balance:\n",
        "        balance -= withdrawal\n",
        "        print(\"Withdrawal successful. Remaining balance:\", balance)\n",
        "    else:\n",
        "        print(\"Insufficient balance.\")\n",
        "    if balance == 0:\n",
        "        print(\"Balance is zero. Exiting.\")\n",
        "        break\n"
      ],
      "metadata": {
        "colab": {
          "base_uri": "https://localhost:8080/"
        },
        "id": "t-rblboO8fvU",
        "outputId": "855e4b3b-392a-4310-fb69-f69b41b46738"
      },
      "execution_count": 15,
      "outputs": [
        {
          "output_type": "stream",
          "name": "stdout",
          "text": [
            "Enter amount to withdraw: 512\n",
            "Withdrawal successful. Remaining balance: 488\n",
            "Enter amount to withdraw: 400\n",
            "Withdrawal successful. Remaining balance: 88\n",
            "Enter amount to withdraw: 88\n",
            "Withdrawal successful. Remaining balance: 0\n",
            "Balance is zero. Exiting.\n"
          ]
        }
      ]
    },
    {
      "cell_type": "markdown",
      "source": [
        "Finding Common Elements in Two Lists"
      ],
      "metadata": {
        "id": "q5tUgr588ph5"
      }
    },
    {
      "cell_type": "code",
      "source": [
        "list1 = [1, 2, 3, 4, 5]\n",
        "list2 = [4, 5, 6, 7, 8]\n",
        "common_elements = []\n",
        "\n",
        "for item in list1:\n",
        "    if item in list2:\n",
        "        common_elements.append(item)\n",
        "\n",
        "print(\"Common elements:\", common_elements)\n"
      ],
      "metadata": {
        "colab": {
          "base_uri": "https://localhost:8080/"
        },
        "id": "xClY-xV48iyT",
        "outputId": "10796ec6-7373-4103-9dd5-75fd70d93b2e"
      },
      "execution_count": 16,
      "outputs": [
        {
          "output_type": "stream",
          "name": "stdout",
          "text": [
            "Common elements: [4, 5]\n"
          ]
        }
      ]
    },
    {
      "cell_type": "markdown",
      "source": [
        "Calculating Factorial of a Number"
      ],
      "metadata": {
        "id": "iUcFVt0-8sKw"
      }
    },
    {
      "cell_type": "code",
      "source": [
        "num = 5\n",
        "factorial = 1\n",
        "\n",
        "for i in range(1, num + 1):\n",
        "    factorial *= i\n",
        "\n",
        "print(\"Factorial of\", num, \"is\", factorial)\n"
      ],
      "metadata": {
        "colab": {
          "base_uri": "https://localhost:8080/"
        },
        "id": "HdX2D3qB8qy8",
        "outputId": "7168b5df-81be-4086-f33e-2fb726e3b1b5"
      },
      "execution_count": 17,
      "outputs": [
        {
          "output_type": "stream",
          "name": "stdout",
          "text": [
            "Factorial of 5 is 120\n"
          ]
        }
      ]
    },
    {
      "cell_type": "markdown",
      "source": [
        "Validating User Input with While Loop"
      ],
      "metadata": {
        "id": "EZBYYxRR8ucZ"
      }
    },
    {
      "cell_type": "code",
      "source": [
        "while True:\n",
        "    user_input = input(\"Enter a number greater than 10: \")\n",
        "    if user_input.isdigit() and int(user_input) > 10:\n",
        "        print(\"Thank you!\")\n",
        "        break\n",
        "    else:\n",
        "        print(\"Invalid input. Please try again.\")\n"
      ],
      "metadata": {
        "colab": {
          "base_uri": "https://localhost:8080/"
        },
        "id": "7ZI-OSdy8tJN",
        "outputId": "bb8648f9-bffd-4b3c-85cb-0544b35004ca"
      },
      "execution_count": 18,
      "outputs": [
        {
          "output_type": "stream",
          "name": "stdout",
          "text": [
            "Enter a number greater than 10: 15\n",
            "Thank you!\n"
          ]
        }
      ]
    },
    {
      "cell_type": "markdown",
      "source": [
        "Finding the Sum of Digits of a Number"
      ],
      "metadata": {
        "id": "hBepD0YT8yuj"
      }
    },
    {
      "cell_type": "code",
      "source": [
        "number = 1234\n",
        "sum_of_digits = 0\n",
        "\n",
        "while number > 0:\n",
        "    digit = number % 10\n",
        "    sum_of_digits += digit\n",
        "    number //= 10\n",
        "\n",
        "print(\"Sum of digits:\", sum_of_digits)\n"
      ],
      "metadata": {
        "colab": {
          "base_uri": "https://localhost:8080/"
        },
        "id": "5c-dhKXI8vm9",
        "outputId": "1af6bce6-6495-43d8-975f-990db2d2d171"
      },
      "execution_count": 19,
      "outputs": [
        {
          "output_type": "stream",
          "name": "stdout",
          "text": [
            "Sum of digits: 10\n"
          ]
        }
      ]
    },
    {
      "cell_type": "markdown",
      "source": [
        "Drawing a Simple Pattern Using Loops"
      ],
      "metadata": {
        "id": "ntjLb-5C82I1"
      }
    },
    {
      "cell_type": "code",
      "source": [
        "rows = 5\n",
        "\n",
        "for i in range(1, rows + 1):\n",
        "    for j in range(1, i + 1):\n",
        "        print(\"*\", end=\" \")\n",
        "    print(\"\")\n"
      ],
      "metadata": {
        "colab": {
          "base_uri": "https://localhost:8080/"
        },
        "id": "whDy6xMo8z7Q",
        "outputId": "8866b462-c8b5-472c-a24b-f597e3f3d48b"
      },
      "execution_count": 22,
      "outputs": [
        {
          "output_type": "stream",
          "name": "stdout",
          "text": [
            "* \n",
            "* * \n",
            "* * * \n",
            "* * * * \n",
            "* * * * * \n"
          ]
        }
      ]
    },
    {
      "cell_type": "markdown",
      "source": [
        "Checking for Palindrome Strings"
      ],
      "metadata": {
        "id": "83tfWnxq-aXp"
      }
    },
    {
      "cell_type": "code",
      "source": [
        "word = \"madam\"\n",
        "is_palindrome = True\n",
        "\n",
        "for i in range(len(word) // 2):\n",
        "    if word[i] != word[-(i + 1)]:\n",
        "        is_palindrome = False\n",
        "        break\n",
        "\n",
        "if is_palindrome:\n",
        "    print(f\"{word} is a palindrome.\")\n",
        "else:\n",
        "    print(f\"{word} is not a palindrome.\")\n"
      ],
      "metadata": {
        "colab": {
          "base_uri": "https://localhost:8080/"
        },
        "id": "lDvBiPFd-art",
        "outputId": "e933c041-6f24-4e57-f831-27e54c027e97"
      },
      "execution_count": 23,
      "outputs": [
        {
          "output_type": "stream",
          "name": "stdout",
          "text": [
            "madam is a palindrome.\n"
          ]
        }
      ]
    },
    {
      "cell_type": "markdown",
      "source": [
        "Creating a Dictionary from Two Lists"
      ],
      "metadata": {
        "id": "nqPKKvMB-dv1"
      }
    },
    {
      "cell_type": "code",
      "source": [
        "keys = [\"name\", \"age\", \"location\"]\n",
        "values = [\"Alice\", 30, \"New York\"]\n",
        "dictionary = {}\n",
        "\n",
        "for i in range(len(keys)):\n",
        "    dictionary[keys[i]] = values[i]\n",
        "\n",
        "print(dictionary)\n"
      ],
      "metadata": {
        "colab": {
          "base_uri": "https://localhost:8080/"
        },
        "id": "5QZS1hEl-bgX",
        "outputId": "14205399-c518-4f9c-9b4d-cd9c2520822b"
      },
      "execution_count": 24,
      "outputs": [
        {
          "output_type": "stream",
          "name": "stdout",
          "text": [
            "{'name': 'Alice', 'age': 30, 'location': 'New York'}\n"
          ]
        }
      ]
    },
    {
      "cell_type": "markdown",
      "source": [
        "Simulating a Simple Password Check"
      ],
      "metadata": {
        "id": "eJBsRqgD-gPE"
      }
    },
    {
      "cell_type": "code",
      "source": [
        "correct_password = \"python123\"\n",
        "attempts = 3\n",
        "\n",
        "while attempts > 0:\n",
        "    password = input(\"Enter your password: \")\n",
        "    if password == correct_password:\n",
        "        print(\"Access granted.\")\n",
        "        break\n",
        "    else:\n",
        "        attempts -= 1\n",
        "        print(f\"Incorrect password. You have {attempts} attempts left.\")\n",
        "else:\n",
        "    print(\"Access denied. You have used all attempts.\")\n"
      ],
      "metadata": {
        "colab": {
          "base_uri": "https://localhost:8080/"
        },
        "id": "E1Y7Tp4I-evd",
        "outputId": "62d94df4-fc6e-4a67-8645-f522c1fe0914"
      },
      "execution_count": 25,
      "outputs": [
        {
          "output_type": "stream",
          "name": "stdout",
          "text": [
            "Enter your password: fs5fs44\n",
            "Incorrect password. You have 2 attempts left.\n",
            "Enter your password: fsfsf15\n",
            "Incorrect password. You have 1 attempts left.\n",
            "Enter your password: python123\n",
            "Access granted.\n"
          ]
        }
      ]
    },
    {
      "cell_type": "markdown",
      "source": [
        "Generating a Multiplication Table for a Given Number"
      ],
      "metadata": {
        "id": "2IrySZdJ-qR3"
      }
    },
    {
      "cell_type": "code",
      "source": [
        "number = 7\n",
        "limit = 10\n",
        "\n",
        "for i in range(1, limit + 1):\n",
        "    print(f\"{number} x {i} = {number * i}\")\n"
      ],
      "metadata": {
        "colab": {
          "base_uri": "https://localhost:8080/"
        },
        "id": "PkU2iCFc-hQW",
        "outputId": "fb25bdc6-f0a9-42a0-d9ec-06450c747f02"
      },
      "execution_count": 26,
      "outputs": [
        {
          "output_type": "stream",
          "name": "stdout",
          "text": [
            "7 x 1 = 7\n",
            "7 x 2 = 14\n",
            "7 x 3 = 21\n",
            "7 x 4 = 28\n",
            "7 x 5 = 35\n",
            "7 x 6 = 42\n",
            "7 x 7 = 49\n",
            "7 x 8 = 56\n",
            "7 x 9 = 63\n",
            "7 x 10 = 70\n"
          ]
        }
      ]
    }
  ]
}